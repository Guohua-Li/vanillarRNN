{
  "nbformat": 4,
  "nbformat_minor": 0,
  "metadata": {
    "colab": {
      "provenance": [],
      "authorship_tag": "ABX9TyNLhp6UhiACINuoVaw6QRnX",
      "include_colab_link": true
    },
    "kernelspec": {
      "name": "python3",
      "display_name": "Python 3"
    },
    "language_info": {
      "name": "python"
    }
  },
  "cells": [
    {
      "cell_type": "markdown",
      "metadata": {
        "id": "view-in-github",
        "colab_type": "text"
      },
      "source": [
        "<a href=\"https://colab.research.google.com/github/Guohua-Li/vanillarRNN/blob/main/rnn_many_to_one_oi.ipynb\" target=\"_parent\"><img src=\"https://colab.research.google.com/assets/colab-badge.svg\" alt=\"Open In Colab\"/></a>"
      ]
    },
    {
      "cell_type": "code",
      "execution_count": null,
      "metadata": {
        "id": "LMF81FwjKWh7"
      },
      "outputs": [],
      "source": [
        "import numpy as np\n",
        "import matplotlib.pyplot as plt\n",
        "from tqdm import tqdm"
      ]
    },
    {
      "cell_type": "code",
      "source": [
        "points = np.arange(0, 400, 1)\n",
        "sin_wave = np.sin(points)\n",
        "cos_wave = np.cos(points)\n",
        "series_3 = np.sin(points*np.pi / 8.)\n",
        "\n",
        "test_points = 200\n",
        "test_sin_wave = sin_wave[:test_points] + np.random.normal(0, 0.06, test_points)\n",
        "test_cos_wave = cos_wave[:test_points] + np.random.normal(0, 0.06, test_points)\n",
        "test_series_3 = series_3[:test_points] + np.random.normal(0, 0.06, test_points)"
      ],
      "metadata": {
        "id": "FHRQHd_lvy7M"
      },
      "execution_count": null,
      "outputs": []
    },
    {
      "cell_type": "code",
      "source": [
        "fig, axs = plt.subplots(3, 2, figsize=(12,3))\n",
        "axs[0][0].plot(sin_wave)\n",
        "axs[1][0].plot(cos_wave)\n",
        "axs[2][0].plot(series_3)\n",
        "axs[0][1].plot(test_sin_wave)\n",
        "axs[1][1].plot(test_cos_wave)\n",
        "axs[2][1].plot(test_series_3)\n",
        "plt.show()"
      ],
      "metadata": {
        "id": "xmM-Oce_x32E"
      },
      "execution_count": null,
      "outputs": []
    },
    {
      "cell_type": "code",
      "source": [
        "def dataset(sequences, timesteps, targets): # many to one\n",
        "    N = len(sequences[0])\n",
        "    x, y = [], []\n",
        "    for step in range(N-timesteps):\n",
        "        xs = []\n",
        "        for seq in sequences:\n",
        "            s = seq[step:step+timesteps]\n",
        "            xs.append(s)\n",
        "        x.append(np.array(xs).T)\n",
        "        ys = []\n",
        "        for i in targets:\n",
        "            seq = sequences[i]\n",
        "            ys.append(seq[step+timesteps])\n",
        "        y.append(ys)\n",
        "    return np.array(x), np.array(y)"
      ],
      "metadata": {
        "id": "SVe1OlBmAd6_"
      },
      "execution_count": null,
      "outputs": []
    },
    {
      "cell_type": "code",
      "source": [
        "# For training\n",
        "timesteps = 30\n",
        "train_sequences = [sin_wave, cos_wave, series_3]\n",
        "x_train, y_train = dataset(train_sequences, timesteps, targets=[0,1])\n",
        "\n",
        "# For testing\n",
        "test_sequences = [test_sin_wave, test_cos_wave, test_series_3]\n",
        "x_test,  y_test  = dataset(test_sequences, timesteps, targets=[0,1])"
      ],
      "metadata": {
        "id": "48i9P-ERv076"
      },
      "execution_count": null,
      "outputs": []
    },
    {
      "cell_type": "code",
      "source": [
        "class BasicRNN:\n",
        "\n",
        "    def __init__(self, hidden_dim, input_dim, output_dim):\n",
        "        self.hidden_dim = hidden_dim\n",
        "        self.input_dim  = input_dim\n",
        "        self.output_dim = output_dim\n",
        "        self.V = np.random.randn(output_dim, hidden_dim)\n",
        "        self.U = np.random.randn(hidden_dim,  input_dim)\n",
        "        self.W = np.random.randn(hidden_dim, hidden_dim)\n",
        "\n",
        "    def forward_pass(self, xs):\n",
        "        self.states = np.zeros((self.n_timesteps+1, self.hidden_dim, 1))\n",
        "        h = np.zeros((self.hidden_dim, 1))\n",
        "        self.states[-1] = h\n",
        "        for t in np.arange(self.n_timesteps):\n",
        "            h = np.tanh(np.matmul(self.U, xs[t]) + np.matmul(self.W, h))\n",
        "            self.states[t] = h\n",
        "        return np.matmul(self.V, h)\n",
        "\n",
        "    def backward_pass(self, xs):\n",
        "        dLdy = self.error\n",
        "        h = self.states[-2]\n",
        "        self.dLdV = np.outer(dLdy, h)\n",
        "        self.dLdU = np.zeros(self.U.shape)\n",
        "        self.dLdW = np.zeros(self.W.shape)\n",
        "        dt = np.matmul(self.V.T, dLdy) * (1-h**2)\n",
        "        for t in np.arange(self.n_timesteps)[::-1]:\n",
        "            self.dLdU += np.outer(dt, xs[t])\n",
        "            h = self.states[t-1]\n",
        "            self.dLdW += np.outer(dt, h)\n",
        "            dt = np.matmul(self.W.T, dt) * (1 - h**2)\n",
        "\n",
        "    def gradient_decent(self):\n",
        "        self.V -= self.lr * self.dLdV\n",
        "        self.U -= self.lr * self.dLdU\n",
        "        self.W -= self.lr * self.dLdW\n",
        "\n",
        "    def train(self, x_train, y_train, epochs, learning_rate):\n",
        "        n_samples = x_train.shape[0]\n",
        "        self.n_timesteps = x_train.shape[1]\n",
        "        self.lr = learning_rate\n",
        "        new_x_shape = (n_samples, self.n_timesteps, self.input_dim, 1)\n",
        "        new_y_shape = (n_samples, self.output_dim, 1)\n",
        "        x_train = x_train.reshape(new_x_shape)\n",
        "        y_train = y_train.reshape(new_y_shape)\n",
        "        Ovr_loss = []\n",
        "        for epoch in tqdm(range(epochs)):\n",
        "            loss = np.zeros((self.output_dim, 1))\n",
        "            for xs, ys in zip(x_train,y_train):\n",
        "                y = self.forward_pass(xs)\n",
        "                self.error = y - ys\n",
        "                loss += 0.5 * self.error**2\n",
        "                self.backward_pass(xs)\n",
        "                self.gradient_decent()\n",
        "            Ovr_loss.append(np.squeeze(loss / n_samples))\n",
        "        return Ovr_loss\n",
        "\n",
        "    def predict(self, inputs):\n",
        "        n_samples = inputs.shape[0]\n",
        "        n_timesteps = inputs.shape[1]\n",
        "        new_x_shape = (n_samples, n_timesteps, self.input_dim, 1)\n",
        "        inputs = inputs.reshape(new_x_shape)\n",
        "        outputs = []\n",
        "        for xs in inputs:\n",
        "            y = self.forward_pass(xs)\n",
        "            outputs.append(y)\n",
        "        return np.array(outputs)"
      ],
      "metadata": {
        "id": "6iJHYQhJKwrd"
      },
      "execution_count": null,
      "outputs": []
    },
    {
      "cell_type": "code",
      "source": [
        "rnn = BasicRNN(hidden_dim=50, input_dim=3, output_dim=2)\n",
        "loss = rnn.train(x_train, y_train, epochs=20, learning_rate=1e-2)\n",
        "plt.plot(loss)\n",
        "plt.show()"
      ],
      "metadata": {
        "id": "-GiWPQe4tNf-"
      },
      "execution_count": null,
      "outputs": []
    },
    {
      "cell_type": "code",
      "source": [
        "outputs = rnn.predict(x_test)\n",
        "fig, axs = plt.subplots(2, 1, figsize=(12,3))\n",
        "T = [i for i in range(len(x_test))]\n",
        "axs[0].plot(T, y_test[:,0])\n",
        "axs[0].plot(T, outputs[:,0])\n",
        "axs[1].plot(T, y_test[:,1])\n",
        "axs[1].plot(T, outputs[:,1])\n",
        "axs[0].set_xlim([0,200])\n",
        "axs[1].set_xlim([0,200])\n",
        "plt.show()"
      ],
      "metadata": {
        "id": "sKX8KHZVJeUz"
      },
      "execution_count": null,
      "outputs": []
    }
  ]
}